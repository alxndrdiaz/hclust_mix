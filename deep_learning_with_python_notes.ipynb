{
  "nbformat": 4,
  "nbformat_minor": 0,
  "metadata": {
    "colab": {
      "name": "deep_learning_with_python_notes.ipynb",
      "provenance": [],
      "collapsed_sections": [],
      "authorship_tag": "ABX9TyNhi4HnsXzz7k9kUMlq2N+C",
      "include_colab_link": true
    },
    "kernelspec": {
      "name": "python3",
      "display_name": "Python 3"
    }
  },
  "cells": [
    {
      "cell_type": "markdown",
      "metadata": {
        "id": "view-in-github",
        "colab_type": "text"
      },
      "source": [
        "<a href=\"https://colab.research.google.com/github/alxndrdiaz/hclust_mix/blob/master/deep_learning_with_python_notes.ipynb\" target=\"_parent\"><img src=\"https://colab.research.google.com/assets/colab-badge.svg\" alt=\"Open In Colab\"/></a>"
      ]
    },
    {
      "cell_type": "markdown",
      "metadata": {
        "id": "12yjRQKjo0Oi"
      },
      "source": [
        "# **Notes from the book Deep Learning with Python by Francois Chollet, Manning Publications (2017)**\n",
        "---\n",
        "\n",
        "Notes about concepts and examples using Keras/TensorFlow.\n",
        "\n",
        "##  Chapter 1\n",
        "The paradigm of machine learning systems is that they are trained rather than explicitly programmed. Learning in this case means an automatic search process for better representation of the input data. \n",
        "\n",
        "Deep learning uses sucessive layers of representation, the number of layers is called the depth. Each layered representation is \n",
        "\n",
        "\n"
      ]
    },
    {
      "cell_type": "markdown",
      "metadata": {
        "id": "a2CYjWCW3fko"
      },
      "source": [
        ""
      ]
    },
    {
      "cell_type": "code",
      "metadata": {
        "id": "QDWJdehto3EO"
      },
      "source": [
        ""
      ],
      "execution_count": null,
      "outputs": []
    },
    {
      "cell_type": "code",
      "metadata": {
        "id": "mvXCjjGTBuLJ"
      },
      "source": [
        ""
      ],
      "execution_count": null,
      "outputs": []
    }
  ]
}